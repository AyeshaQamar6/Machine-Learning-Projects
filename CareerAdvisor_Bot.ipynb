{
 "cells": [
  {
   "cell_type": "markdown",
   "metadata": {},
   "source": [
    "## **Career Advisor Bot**"
   ]
  },
  {
   "cell_type": "code",
   "execution_count": 1,
   "metadata": {},
   "outputs": [
    {
     "name": "stderr",
     "output_type": "stream",
     "text": [
      "c:\\Users\\AYESHA QAMAR\\AppData\\Local\\Programs\\Python\\Python311\\Lib\\site-packages\\tqdm\\auto.py:21: TqdmWarning: IProgress not found. Please update jupyter and ipywidgets. See https://ipywidgets.readthedocs.io/en/stable/user_install.html\n",
      "  from .autonotebook import tqdm as notebook_tqdm\n"
     ]
    }
   ],
   "source": [
    "# Importing Libraries\n",
    "import nltk\n",
    "import spacy\n",
    "from transformers import pipeline"
   ]
  },
  {
   "cell_type": "code",
   "execution_count": 2,
   "metadata": {},
   "outputs": [
    {
     "name": "stderr",
     "output_type": "stream",
     "text": [
      "[nltk_data] Downloading package punkt to C:\\Users\\AYESHA\n",
      "[nltk_data]     QAMAR\\AppData\\Roaming\\nltk_data...\n",
      "[nltk_data]   Unzipping tokenizers\\punkt.zip.\n"
     ]
    }
   ],
   "source": [
    "#Initializing Bot\n",
    "nltk.download('punkt')\n",
    "nlp = spacy.load('en_core_web_sm')"
   ]
  },
  {
   "cell_type": "code",
   "execution_count": 3,
   "metadata": {},
   "outputs": [],
   "source": [
    "#Text preprocessing\n",
    "def preprocess_text(text):\n",
    "    doc = nlp(text)\n",
    "    tokens = [token.lemma_.lower() for token in doc if not token.is_stop and token.is_alpha]\n",
    "    return ''. join(tokens)"
   ]
  },
  {
   "cell_type": "markdown",
   "metadata": {},
   "source": [
    "**Building the conversation logic**"
   ]
  },
  {
   "cell_type": "code",
   "execution_count": 4,
   "metadata": {},
   "outputs": [],
   "source": [
    "def get_career_advice():\n",
    "    \"\"\"Returns a list of career advice for a social worker.\"\"\"\n",
    "    user_name = input(\"Hello! I'm your Career Advisor Bot. What's your name?\")\n",
    "    print(f\"Nice to meet you, {user_name}!\")\n",
    "\n",
    "    cv_text = input(\"Please paste your CV here, and I'll give you some advice:\")\n",
    "    processed_cv = preprocess_text(cv_text)\n",
    "    print(\"Analyzing your CV...\")\n",
    "\n",
    "    #Simulating analysis with a simple response\n",
    "    print(\"Your CV looks good, but here are a few tips:\\n1. Quantify your achievements.\\n2. Highlight your technical skills.\\n3. Ensure there are no spelling or grammar mistakes.\")\n",
    "\n",
    "    job_interest = input(\"What kind of job are you looking for?\")\n",
    "    print(f\"Great! Here are some common interview questions for a {job_interest} position:\")\n",
    "\n",
    "    questions = [\n",
    "        \"Tell me about yourself.\",\n",
    "        \"What are your strengths and weaknesses?\",\n",
    "        \"Why do you want to work at this company?\",\n",
    "        \"Describe a challenging project you worked on.\",\n",
    "        \"Where do you see yourself in 5 years?\"\n",
    "    ]\n",
    "\n",
    "    for question in questions:\n",
    "        print(question)\n",
    "\n",
    "    print(f\"Good luck with your job search, {user_name}! If you need more help, feel free to ask.\")"
   ]
  },
  {
   "cell_type": "markdown",
   "metadata": {},
   "source": [
    "**Adding NLP Capabilities**"
   ]
  },
  {
   "cell_type": "code",
   "execution_count": 5,
   "metadata": {},
   "outputs": [],
   "source": [
    "def generate_response(prompt):\n",
    "    qa_pipeline = pipeline(\"questions-answering\")\n",
    "    response = qa_pipeline(question=prompt, context=\"Your Cv details or user input context\")\n",
    "    return response['answer']"
   ]
  },
  {
   "cell_type": "markdown",
   "metadata": {},
   "source": [
    "**Integrating NLP in Conversation logic**"
   ]
  },
  {
   "cell_type": "markdown",
   "metadata": {},
   "source": [
    "**Running the Chatbot**"
   ]
  },
  {
   "cell_type": "code",
   "execution_count": 6,
   "metadata": {},
   "outputs": [
    {
     "name": "stdout",
     "output_type": "stream",
     "text": [
      "Nice to meet you, !\n",
      "Analyzing your CV...\n",
      "Your CV looks good, but here are a few tips:\n",
      "1. Quantify your achievements.\n",
      "2. Highlight your technical skills.\n",
      "3. Ensure there are no spelling or grammar mistakes.\n",
      "Great! Here are some common interview questions for a Data Science position:\n",
      "Tell me about yourself.\n",
      "What are your strengths and weaknesses?\n",
      "Why do you want to work at this company?\n",
      "Describe a challenging project you worked on.\n",
      "Where do you see yourself in 5 years?\n",
      "Good luck with your job search, ! If you need more help, feel free to ask.\n"
     ]
    }
   ],
   "source": [
    "if __name__ == \"__main__\":\n",
    "    get_career_advice()"
   ]
  },
  {
   "cell_type": "code",
   "execution_count": null,
   "metadata": {},
   "outputs": [],
   "source": []
  }
 ],
 "metadata": {
  "kernelspec": {
   "display_name": "Python 3",
   "language": "python",
   "name": "python3"
  },
  "language_info": {
   "codemirror_mode": {
    "name": "ipython",
    "version": 3
   },
   "file_extension": ".py",
   "mimetype": "text/x-python",
   "name": "python",
   "nbconvert_exporter": "python",
   "pygments_lexer": "ipython3",
   "version": "3.11.5"
  }
 },
 "nbformat": 4,
 "nbformat_minor": 2
}
