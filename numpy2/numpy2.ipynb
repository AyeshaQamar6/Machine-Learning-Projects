{
 "cells": [
  {
   "cell_type": "code",
   "execution_count": 1,
   "metadata": {},
   "outputs": [],
   "source": [
    "## Importing Numpy\n",
    "import numpy as np"
   ]
  },
  {
   "cell_type": "code",
   "execution_count": 2,
   "metadata": {},
   "outputs": [
    {
     "name": "stdout",
     "output_type": "stream",
     "text": [
      "[[3.000e+00 6.000e+00 5.000e+00]\n",
      " [1.320e+02 2.310e+02 4.420e+02]\n",
      " [3.668e+03 4.559e+03 1.158e+03]\n",
      " [7.000e+00 8.100e+01 9.900e+01]]\n",
      "<class 'numpy.ndarray'>\n"
     ]
    }
   ],
   "source": [
    "# Loading text file by its name\n",
    "data = np.loadtxt(\"textfilenp2.txt\")\n",
    "print(data)\n",
    "\n",
    "print(type(data))"
   ]
  },
  {
   "cell_type": "code",
   "execution_count": 3,
   "metadata": {},
   "outputs": [
    {
     "name": "stdout",
     "output_type": "stream",
     "text": [
      "[[   3    6    5]\n",
      " [ 132  231  442]\n",
      " [3668 4559 1158]\n",
      " [   7   81   99]]\n",
      "<class 'numpy.ndarray'>\n"
     ]
    },
    {
     "data": {
      "text/plain": [
       "dtype('int32')"
      ]
     },
     "execution_count": 3,
     "metadata": {},
     "output_type": "execute_result"
    }
   ],
   "source": [
    "## Conversion from float to integer\n",
    "data = np.loadtxt(\"textfilenp2.txt\", dtype=int)\n",
    "print(data)\n",
    "print(type(data))\n",
    "data.dtype"
   ]
  },
  {
   "cell_type": "code",
   "execution_count": 4,
   "metadata": {},
   "outputs": [
    {
     "name": "stdout",
     "output_type": "stream",
     "text": [
      "[[ 132.  231.  442.]\n",
      " [3668. 4559. 1158.]\n",
      " [   7.   81.   99.]]\n"
     ]
    }
   ],
   "source": [
    "## Skipping row\n",
    "data = np.loadtxt(\"textfilenp2.txt\",skiprows=1)\n",
    "print(data)"
   ]
  },
  {
   "cell_type": "code",
   "execution_count": 5,
   "metadata": {},
   "outputs": [
    {
     "name": "stdout",
     "output_type": "stream",
     "text": [
      "[ 7. 81. 99.]\n"
     ]
    }
   ],
   "source": [
    "data = np.loadtxt(\"textfilenp2.txt\",skiprows=3)\n",
    "print(data)"
   ]
  },
  {
   "cell_type": "code",
   "execution_count": 6,
   "metadata": {},
   "outputs": [
    {
     "data": {
      "text/plain": [
       "'data = np.loadtxt(\"textfilenp2.txt\", dtype=int, usecols=(1,4))\\nprint(data)'"
      ]
     },
     "execution_count": 6,
     "metadata": {},
     "output_type": "execute_result"
    }
   ],
   "source": [
    "## For required rows\n",
    "'''data = np.loadtxt(\"textfilenp2.txt\", dtype=int, usecols=(1,4))\n",
    "print(data)'''"
   ]
  },
  {
   "cell_type": "code",
   "execution_count": 7,
   "metadata": {},
   "outputs": [
    {
     "name": "stdout",
     "output_type": "stream",
     "text": [
      "[   6  231 4559   81]\n"
     ]
    }
   ],
   "source": [
    "## Column into row\n",
    "data = np.loadtxt(\"textfilenp2.txt\", dtype=int,usecols=(1))\n",
    "print(data)"
   ]
  },
  {
   "cell_type": "code",
   "execution_count": 8,
   "metadata": {},
   "outputs": [
    {
     "name": "stdout",
     "output_type": "stream",
     "text": [
      "['6' '231' '4559' '81']\n"
     ]
    }
   ],
   "source": [
    "## Integer into string\n",
    "data = np.loadtxt(\"textfilenp2.txt\", dtype=np.str0,usecols=(1))\n",
    "print(data)"
   ]
  },
  {
   "cell_type": "code",
   "execution_count": null,
   "metadata": {},
   "outputs": [],
   "source": []
  }
 ],
 "metadata": {
  "kernelspec": {
   "display_name": "Python 3",
   "language": "python",
   "name": "python3"
  },
  "language_info": {
   "codemirror_mode": {
    "name": "ipython",
    "version": 3
   },
   "file_extension": ".py",
   "mimetype": "text/x-python",
   "name": "python",
   "nbconvert_exporter": "python",
   "pygments_lexer": "ipython3",
   "version": "3.9.2"
  },
  "orig_nbformat": 4
 },
 "nbformat": 4,
 "nbformat_minor": 2
}
