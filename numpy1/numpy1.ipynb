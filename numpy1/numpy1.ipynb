{
 "cells": [
  {
   "attachments": {},
   "cell_type": "markdown",
   "metadata": {},
   "source": [
    "## IMAGE INTO NUMPY ARRAY:"
   ]
  },
  {
   "cell_type": "code",
   "execution_count": 1,
   "metadata": {},
   "outputs": [
    {
     "ename": "SyntaxError",
     "evalue": "invalid syntax (3329363235.py, line 2)",
     "output_type": "error",
     "traceback": [
      "\u001b[1;36m  Input \u001b[1;32mIn [1]\u001b[1;36m\u001b[0m\n\u001b[1;33m    <img src= \"Bubbles.jpg\"/>\u001b[0m\n\u001b[1;37m    ^\u001b[0m\n\u001b[1;31mSyntaxError\u001b[0m\u001b[1;31m:\u001b[0m invalid syntax\n"
     ]
    }
   ],
   "source": [
    "## Importing image\n",
    "<img src= \"Bubbles.jpg\"/>"
   ]
  },
  {
   "cell_type": "code",
   "execution_count": 2,
   "metadata": {},
   "outputs": [
    {
     "name": "stdout",
     "output_type": "stream",
     "text": [
      "<class 'numpy.ndarray'>\n"
     ]
    }
   ],
   "source": [
    "## Importing libraries\n",
    "\n",
    "#Turn image into an array\n",
    "from matplotlib.image import imread \n",
    "\n",
    "bubbles = imread(\"Bubbles.jpg\")\n",
    "print(type(bubbles))"
   ]
  },
  {
   "cell_type": "code",
   "execution_count": 3,
   "metadata": {},
   "outputs": [
    {
     "data": {
      "text/plain": [
       "array([[[ 79,  52,  43],\n",
       "        [ 74,  51,  43],\n",
       "        [ 67,  50,  43],\n",
       "        ...,\n",
       "        [159, 189,  93],\n",
       "        [155, 185,  89],\n",
       "        [153, 180,  85]],\n",
       "\n",
       "       [[ 79,  52,  43],\n",
       "        [ 74,  51,  43],\n",
       "        [ 65,  50,  43],\n",
       "        ...,\n",
       "        [145, 172,  79],\n",
       "        [143, 170,  75],\n",
       "        [142, 167,  75]],\n",
       "\n",
       "       [[ 75,  51,  41],\n",
       "        [ 71,  51,  42],\n",
       "        [ 64,  51,  43],\n",
       "        ...,\n",
       "        [147, 172,  81],\n",
       "        [143, 168,  76],\n",
       "        [141, 164,  74]],\n",
       "\n",
       "       ...,\n",
       "\n",
       "       [[170,  48,  71],\n",
       "        [171,  49,  72],\n",
       "        [174,  52,  75],\n",
       "        ...,\n",
       "        [122, 165, 172],\n",
       "        [169, 212, 219],\n",
       "        [ 76, 108, 119]],\n",
       "\n",
       "       [[166,  47,  69],\n",
       "        [167,  48,  70],\n",
       "        [169,  50,  72],\n",
       "        ...,\n",
       "        [129, 172, 181],\n",
       "        [ 61, 110, 117],\n",
       "        [  7,  51,  60]],\n",
       "\n",
       "       [[164,  45,  67],\n",
       "        [165,  46,  68],\n",
       "        [168,  49,  71],\n",
       "        ...,\n",
       "        [ 61, 104, 113],\n",
       "        [  0,  44,  51],\n",
       "        [  0,  49,  55]]], dtype=uint8)"
      ]
     },
     "execution_count": 3,
     "metadata": {},
     "output_type": "execute_result"
    }
   ],
   "source": [
    "##Checking the given array\n",
    "bubbles"
   ]
  },
  {
   "cell_type": "code",
   "execution_count": 4,
   "metadata": {},
   "outputs": [
    {
     "name": "stdout",
     "output_type": "stream",
     "text": [
      "74466\n",
      "(126, 197, 3)\n",
      "3\n"
     ]
    }
   ],
   "source": [
    "##Viewing about the array\n",
    "\n",
    "# For bubbles size\n",
    "print(bubbles.size)\n",
    "# For bubbles shape\n",
    "print(bubbles.shape)\n",
    "# For bubbles dimension\n",
    "print(bubbles.ndim)"
   ]
  },
  {
   "cell_type": "code",
   "execution_count": 5,
   "metadata": {},
   "outputs": [
    {
     "data": {
      "text/plain": [
       "array([[[ 79,  52,  43],\n",
       "        [ 74,  51,  43],\n",
       "        [ 67,  50,  43],\n",
       "        ...,\n",
       "        [159, 189,  93],\n",
       "        [155, 185,  89],\n",
       "        [153, 180,  85]],\n",
       "\n",
       "       [[ 79,  52,  43],\n",
       "        [ 74,  51,  43],\n",
       "        [ 65,  50,  43],\n",
       "        ...,\n",
       "        [145, 172,  79],\n",
       "        [143, 170,  75],\n",
       "        [142, 167,  75]],\n",
       "\n",
       "       [[ 75,  51,  41],\n",
       "        [ 71,  51,  42],\n",
       "        [ 64,  51,  43],\n",
       "        ...,\n",
       "        [147, 172,  81],\n",
       "        [143, 168,  76],\n",
       "        [141, 164,  74]],\n",
       "\n",
       "       ...,\n",
       "\n",
       "       [[ 58,  50,  39],\n",
       "        [ 57,  50,  40],\n",
       "        [ 53,  54,  48],\n",
       "        ...,\n",
       "        [142, 127,  70],\n",
       "        [139, 124,  65],\n",
       "        [137, 122,  65]],\n",
       "\n",
       "       [[ 59,  52,  42],\n",
       "        [ 57,  54,  47],\n",
       "        [ 55,  57,  54],\n",
       "        ...,\n",
       "        [158, 134,  86],\n",
       "        [149, 126,  76],\n",
       "        [144, 117,  70]],\n",
       "\n",
       "       [[ 55,  52,  45],\n",
       "        [ 54,  53,  49],\n",
       "        [ 53,  57,  58],\n",
       "        ...,\n",
       "        [150, 117,  76],\n",
       "        [143, 110,  69],\n",
       "        [141, 106,  66]]], dtype=uint8)"
      ]
     },
     "execution_count": 5,
     "metadata": {},
     "output_type": "execute_result"
    }
   ],
   "source": [
    "# Viewing 10 lines of array\n",
    "bubbles[:10]"
   ]
  },
  {
   "cell_type": "code",
   "execution_count": null,
   "metadata": {},
   "outputs": [],
   "source": []
  }
 ],
 "metadata": {
  "kernelspec": {
   "display_name": "Python 3",
   "language": "python",
   "name": "python3"
  },
  "language_info": {
   "codemirror_mode": {
    "name": "ipython",
    "version": 3
   },
   "file_extension": ".py",
   "mimetype": "text/x-python",
   "name": "python",
   "nbconvert_exporter": "python",
   "pygments_lexer": "ipython3",
   "version": "3.9.2"
  },
  "orig_nbformat": 4
 },
 "nbformat": 4,
 "nbformat_minor": 2
}
